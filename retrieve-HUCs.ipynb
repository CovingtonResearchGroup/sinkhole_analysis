{
 "cells": [
  {
   "cell_type": "code",
   "execution_count": 1,
   "metadata": {},
   "outputs": [],
   "source": [
    "import geopandas as gpd\n",
    "from karstification import calc_karstification_for_HU10\n",
    "hu10_db = gpd.read_file('WBD_National_GDB.gdb', layer='WBDHU10')\n",
    "box_hucs = hu10_db.cx[-94.456:-94.335, 36.104:36.174]\n"
   ]
  },
  {
   "cell_type": "code",
   "execution_count": null,
   "metadata": {},
   "outputs": [],
   "source": []
  },
  {
   "cell_type": "code",
   "execution_count": 2,
   "metadata": {},
   "outputs": [
    {
     "name": "stderr",
     "output_type": "stream",
     "text": [
      "/home/mcoving/anaconda3/envs/geo/lib/python3.9/site-packages/geopandas/base.py:31: UserWarning: The indices of the two GeoSeries are different.\n",
      "  warn(\"The indices of the two GeoSeries are different.\")\n",
      "/home/mcoving/anaconda3/envs/geo/lib/python3.9/site-packages/geopandas/io/file.py:545: UserWarning: You are attempting to write an empty DataFrame to file. For some drivers, this operation may fail.\n",
      "  _to_file_fiona(df, filename, driver, schema, crs, mode, **kwargs)\n"
     ]
    },
    {
     "ename": "ValueError",
     "evalue": "No valid geometry objects found for rasterize",
     "output_type": "error",
     "traceback": [
      "\u001b[0;31m---------------------------------------------------------------------------\u001b[0m",
      "\u001b[0;31mValueError\u001b[0m                                Traceback (most recent call last)",
      "Cell \u001b[0;32mIn[2], line 7\u001b[0m\n\u001b[1;32m      2\u001b[0m hu \u001b[39m=\u001b[39m box_hucs[box_hucs\u001b[39m.\u001b[39mindex \u001b[39m==\u001b[39m hu_idx]\n\u001b[1;32m      3\u001b[0m \u001b[39m#huc10 = hu.huc10\u001b[39;00m\n\u001b[1;32m      4\u001b[0m \u001b[39m#dem = py3dep.get_map(\"DEM\", box_hucs.loc[box_hucs.index[0]].geometry, resolution=30, geo_crs=\"epsg:4326\", crs=\"epsg:3857\")\u001b[39;00m\n\u001b[1;32m      5\u001b[0m \u001b[39m#dem.rio.to_raster(\"NHD-data/\"+huc10+'.tif')\u001b[39;00m\n\u001b[0;32m----> 7\u001b[0m p_karst \u001b[39m=\u001b[39m calc_karstification_for_HU10(hu)\n\u001b[1;32m      9\u001b[0m \u001b[39mprint\u001b[39m(\u001b[39m'\u001b[39m\u001b[39mHU\u001b[39m\u001b[39m'\u001b[39m, hu\u001b[39m.\u001b[39mhuc10, \u001b[39m'\u001b[39m\u001b[39mhas\u001b[39m\u001b[39m'\u001b[39m, \u001b[39mstr\u001b[39m(p_karst)[:\u001b[39m5\u001b[39m], \u001b[39m'\u001b[39m\u001b[39mpercent internal karst drainage.\u001b[39m\u001b[39m'\u001b[39m)\n",
      "File \u001b[0;32m~/github/sinkhole_analysis/karstification.py:71\u001b[0m, in \u001b[0;36mcalc_karstification_for_HU10\u001b[0;34m(HU10, sinkhole_dataset)\u001b[0m\n\u001b[1;32m     69\u001b[0m out_shape \u001b[39m=\u001b[39m imgsrc_elev\u001b[39m.\u001b[39mshape\n\u001b[1;32m     70\u001b[0m out_trans \u001b[39m=\u001b[39m imgsrc_elev\u001b[39m.\u001b[39mtransform\n\u001b[0;32m---> 71\u001b[0m sinks_array \u001b[39m=\u001b[39m rasterio\u001b[39m.\u001b[39;49mfeatures\u001b[39m.\u001b[39;49mrasterize(sinks_list,\n\u001b[1;32m     72\u001b[0m                 fill\u001b[39m=\u001b[39;49m\u001b[39m0\u001b[39;49m, out_shape\u001b[39m=\u001b[39;49m out_shape,\n\u001b[1;32m     73\u001b[0m                 transform \u001b[39m=\u001b[39;49m out_trans)\n\u001b[1;32m     74\u001b[0m profile \u001b[39m=\u001b[39m imgsrc_elev\u001b[39m.\u001b[39mprofile\n\u001b[1;32m     75\u001b[0m sinks_raster \u001b[39m=\u001b[39m \u001b[39m'\u001b[39m\u001b[39mHUC-\u001b[39m\u001b[39m'\u001b[39m \u001b[39m+\u001b[39m huc10_str \u001b[39m+\u001b[39m \u001b[39m'\u001b[39m\u001b[39m-sinks-SinkholePolys.tif\u001b[39m\u001b[39m'\u001b[39m\n",
      "File \u001b[0;32m~/anaconda3/envs/geo/lib/python3.9/site-packages/rasterio/env.py:394\u001b[0m, in \u001b[0;36mensure_env.<locals>.wrapper\u001b[0;34m(*args, **kwds)\u001b[0m\n\u001b[1;32m    392\u001b[0m \u001b[39melse\u001b[39;00m:\n\u001b[1;32m    393\u001b[0m     \u001b[39mwith\u001b[39;00m Env\u001b[39m.\u001b[39mfrom_defaults():\n\u001b[0;32m--> 394\u001b[0m         \u001b[39mreturn\u001b[39;00m f(\u001b[39m*\u001b[39;49margs, \u001b[39m*\u001b[39;49m\u001b[39m*\u001b[39;49mkwds)\n",
      "File \u001b[0;32m~/anaconda3/envs/geo/lib/python3.9/site-packages/rasterio/features.py:327\u001b[0m, in \u001b[0;36mrasterize\u001b[0;34m(shapes, out_shape, fill, out, transform, all_touched, merge_alg, default_value, dtype)\u001b[0m\n\u001b[1;32m    324\u001b[0m         warnings\u001b[39m.\u001b[39mwarn(\u001b[39m'\u001b[39m\u001b[39mInvalid or empty shape \u001b[39m\u001b[39m{}\u001b[39;00m\u001b[39m at index \u001b[39m\u001b[39m{}\u001b[39;00m\u001b[39m will not be rasterized.\u001b[39m\u001b[39m'\u001b[39m\u001b[39m.\u001b[39mformat(geom, index), ShapeSkipWarning)\n\u001b[1;32m    326\u001b[0m \u001b[39mif\u001b[39;00m \u001b[39mnot\u001b[39;00m valid_shapes:\n\u001b[0;32m--> 327\u001b[0m     \u001b[39mraise\u001b[39;00m \u001b[39mValueError\u001b[39;00m(\u001b[39m'\u001b[39m\u001b[39mNo valid geometry objects found for rasterize\u001b[39m\u001b[39m'\u001b[39m)\n\u001b[1;32m    329\u001b[0m shape_values \u001b[39m=\u001b[39m np\u001b[39m.\u001b[39marray(shape_values)\n\u001b[1;32m    331\u001b[0m \u001b[39mif\u001b[39;00m \u001b[39mnot\u001b[39;00m validate_dtype(shape_values, valid_dtypes):\n",
      "\u001b[0;31mValueError\u001b[0m: No valid geometry objects found for rasterize"
     ]
    }
   ],
   "source": [
    "\n",
    "for hu_idx in box_hucs.index:\n",
    "    hu = box_hucs[box_hucs.index == hu_idx]\n",
    "    #huc10 = hu.huc10\n",
    "    #dem = py3dep.get_map(\"DEM\", box_hucs.loc[box_hucs.index[0]].geometry, resolution=30, geo_crs=\"epsg:4326\", crs=\"epsg:3857\")\n",
    "    #dem.rio.to_raster(\"NHD-data/\"+huc10+'.tif')\n",
    "\n",
    "    p_karst = calc_karstification_for_HU10(hu)\n",
    "\n",
    "    print('HU', hu.huc10, 'has', str(p_karst)[:5], 'percent internal karst drainage.')"
   ]
  },
  {
   "cell_type": "code",
   "execution_count": 7,
   "metadata": {},
   "outputs": [],
   "source": [
    "hu10 = gpd.read_file('NHD-data/NHDPLUS_H_0505_HU4_GDB.gdb/', layer='WBDHU10')"
   ]
  },
  {
   "cell_type": "code",
   "execution_count": 13,
   "metadata": {},
   "outputs": [],
   "source": [
    "this_huc = hu10[hu10.HUC10 == '0505000803']"
   ]
  },
  {
   "cell_type": "code",
   "execution_count": 3,
   "metadata": {},
   "outputs": [],
   "source": [
    "import rasterio as rio\n",
    "import rasterio.mask as mask\n",
    "import geopandas as gpd\n",
    "import os"
   ]
  },
  {
   "cell_type": "code",
   "execution_count": null,
   "metadata": {},
   "outputs": [],
   "source": []
  },
  {
   "cell_type": "code",
   "execution_count": 8,
   "metadata": {},
   "outputs": [
    {
     "data": {
      "text/plain": [
       "CRS.from_epsg(4326)"
      ]
     },
     "execution_count": 8,
     "metadata": {},
     "output_type": "execute_result"
    }
   ],
   "source": [
    "ras_crs"
   ]
  },
  {
   "cell_type": "code",
   "execution_count": 4,
   "metadata": {},
   "outputs": [],
   "source": [
    "ras_src = rio.open('NHD-data/1111010306.tif')"
   ]
  },
  {
   "cell_type": "code",
   "execution_count": 9,
   "metadata": {},
   "outputs": [
    {
     "data": {
      "text/plain": [
       "<Geographic 2D CRS: EPSG:4326>\n",
       "Name: WGS 84\n",
       "Axis Info [ellipsoidal]:\n",
       "- Lat[north]: Geodetic latitude (degree)\n",
       "- Lon[east]: Geodetic longitude (degree)\n",
       "Area of Use:\n",
       "- undefined\n",
       "Datum: World Geodetic System 1984\n",
       "- Ellipsoid: WGS 84\n",
       "- Prime Meridian: Greenwich"
      ]
     },
     "execution_count": 9,
     "metadata": {},
     "output_type": "execute_result"
    }
   ],
   "source": [
    "ras_crs = ras_src.crs\n",
    "geom_df = box_hucs[box_hucs.index==3710]\n",
    "new_df = geom_df.to_crs(ras_crs)\n",
    "new_df.crs"
   ]
  },
  {
   "cell_type": "code",
   "execution_count": 14,
   "metadata": {},
   "outputs": [
    {
     "data": {
      "text/plain": [
       "BoundingBox(left=-94.72416009153449, bottom=35.91799583799809, right=-94.37776427019713, top=36.24369796978425)"
      ]
     },
     "execution_count": 14,
     "metadata": {},
     "output_type": "execute_result"
    }
   ],
   "source": [
    "ras_src.bounds"
   ]
  },
  {
   "cell_type": "code",
   "execution_count": null,
   "metadata": {},
   "outputs": [],
   "source": []
  },
  {
   "cell_type": "code",
   "execution_count": 13,
   "metadata": {},
   "outputs": [
    {
     "ename": "ValueError",
     "evalue": "Input shapes do not overlap raster.",
     "output_type": "error",
     "traceback": [
      "\u001b[0;31m---------------------------------------------------------------------------\u001b[0m",
      "\u001b[0;31mWindowError\u001b[0m                               Traceback (most recent call last)",
      "File \u001b[0;32m~/anaconda3/envs/geo/lib/python3.9/site-packages/rasterio/mask.py:80\u001b[0m, in \u001b[0;36mraster_geometry_mask\u001b[0;34m(dataset, shapes, all_touched, invert, crop, pad, pad_width)\u001b[0m\n\u001b[1;32m     79\u001b[0m \u001b[39mtry\u001b[39;00m:\n\u001b[0;32m---> 80\u001b[0m     window \u001b[39m=\u001b[39m geometry_window(dataset, shapes, pad_x\u001b[39m=\u001b[39;49mpad_x, pad_y\u001b[39m=\u001b[39;49mpad_y)\n\u001b[1;32m     82\u001b[0m \u001b[39mexcept\u001b[39;00m WindowError:\n\u001b[1;32m     83\u001b[0m     \u001b[39m# If shapes do not overlap raster, raise Exception or UserWarning\u001b[39;00m\n\u001b[1;32m     84\u001b[0m     \u001b[39m# depending on value of crop\u001b[39;00m\n",
      "File \u001b[0;32m~/anaconda3/envs/geo/lib/python3.9/site-packages/rasterio/features.py:473\u001b[0m, in \u001b[0;36mgeometry_window\u001b[0;34m(dataset, shapes, pad_x, pad_y, north_up, rotated, pixel_precision, boundless)\u001b[0m\n\u001b[1;32m    472\u001b[0m \u001b[39mif\u001b[39;00m \u001b[39mnot\u001b[39;00m boundless:\n\u001b[0;32m--> 473\u001b[0m     window \u001b[39m=\u001b[39m window\u001b[39m.\u001b[39;49mintersection(raster_window)\n\u001b[1;32m    475\u001b[0m \u001b[39mreturn\u001b[39;00m window\n",
      "File \u001b[0;32m~/anaconda3/envs/geo/lib/python3.9/site-packages/rasterio/windows.py:775\u001b[0m, in \u001b[0;36mWindow.intersection\u001b[0;34m(self, other)\u001b[0m\n\u001b[1;32m    763\u001b[0m \u001b[39m\u001b[39m\u001b[39m\"\"\"Return the intersection of this window and another\u001b[39;00m\n\u001b[1;32m    764\u001b[0m \n\u001b[1;32m    765\u001b[0m \u001b[39mParameters\u001b[39;00m\n\u001b[0;32m   (...)\u001b[0m\n\u001b[1;32m    773\u001b[0m \u001b[39mWindow\u001b[39;00m\n\u001b[1;32m    774\u001b[0m \u001b[39m\"\"\"\u001b[39;00m\n\u001b[0;32m--> 775\u001b[0m \u001b[39mreturn\u001b[39;00m intersection([\u001b[39mself\u001b[39;49m, other])\n",
      "File \u001b[0;32m~/anaconda3/envs/geo/lib/python3.9/site-packages/rasterio/windows.py:125\u001b[0m, in \u001b[0;36miter_args.<locals>.wrapper\u001b[0;34m(*args, **kwargs)\u001b[0m\n\u001b[1;32m    124\u001b[0m \u001b[39mif\u001b[39;00m \u001b[39mlen\u001b[39m(args) \u001b[39m==\u001b[39m \u001b[39m1\u001b[39m \u001b[39mand\u001b[39;00m \u001b[39misinstance\u001b[39m(args[\u001b[39m0\u001b[39m], Iterable):\n\u001b[0;32m--> 125\u001b[0m     \u001b[39mreturn\u001b[39;00m function(\u001b[39m*\u001b[39;49margs[\u001b[39m0\u001b[39;49m])\n\u001b[1;32m    126\u001b[0m \u001b[39melse\u001b[39;00m:\n",
      "File \u001b[0;32m~/anaconda3/envs/geo/lib/python3.9/site-packages/rasterio/windows.py:239\u001b[0m, in \u001b[0;36mintersection\u001b[0;34m(*windows)\u001b[0m\n\u001b[1;32m    226\u001b[0m \u001b[39m\u001b[39m\u001b[39m\"\"\"Innermost extent of window intersections.\u001b[39;00m\n\u001b[1;32m    227\u001b[0m \n\u001b[1;32m    228\u001b[0m \u001b[39mWill raise WindowError if windows do not intersect.\u001b[39;00m\n\u001b[0;32m   (...)\u001b[0m\n\u001b[1;32m    237\u001b[0m \u001b[39mWindow\u001b[39;00m\n\u001b[1;32m    238\u001b[0m \u001b[39m\"\"\"\u001b[39;00m\n\u001b[0;32m--> 239\u001b[0m \u001b[39mreturn\u001b[39;00m functools\u001b[39m.\u001b[39;49mreduce(_intersection, windows)\n",
      "File \u001b[0;32m~/anaconda3/envs/geo/lib/python3.9/site-packages/rasterio/windows.py:257\u001b[0m, in \u001b[0;36m_intersection\u001b[0;34m(w1, w2)\u001b[0m\n\u001b[1;32m    256\u001b[0m \u001b[39melse\u001b[39;00m:\n\u001b[0;32m--> 257\u001b[0m     \u001b[39mraise\u001b[39;00m WindowError(\u001b[39mf\u001b[39m\u001b[39m\"\u001b[39m\u001b[39mIntersection is empty \u001b[39m\u001b[39m{\u001b[39;00mw1\u001b[39m}\u001b[39;00m\u001b[39m \u001b[39m\u001b[39m{\u001b[39;00mw2\u001b[39m}\u001b[39;00m\u001b[39m\"\u001b[39m)\n",
      "\u001b[0;31mWindowError\u001b[0m: Intersection is empty Window(col_off=-95, row_off=35, width=1, height=2) Window(col_off=0, row_off=0, width=1043, height=1205)",
      "\nDuring handling of the above exception, another exception occurred:\n",
      "\u001b[0;31mValueError\u001b[0m                                Traceback (most recent call last)",
      "Cell \u001b[0;32mIn[13], line 1\u001b[0m\n\u001b[0;32m----> 1\u001b[0m out_image, out_transform \u001b[39m=\u001b[39m mask\u001b[39m.\u001b[39;49mmask(\n\u001b[1;32m      2\u001b[0m         ras_src, [geom_df\u001b[39m.\u001b[39;49mgeometry], crop\u001b[39m=\u001b[39;49m\u001b[39mTrue\u001b[39;49;00m, nodata\u001b[39m=\u001b[39;49m\u001b[39m0\u001b[39;49m\n\u001b[1;32m      3\u001b[0m     )\n",
      "File \u001b[0;32m~/anaconda3/envs/geo/lib/python3.9/site-packages/rasterio/mask.py:178\u001b[0m, in \u001b[0;36mmask\u001b[0;34m(dataset, shapes, all_touched, invert, nodata, filled, crop, pad, pad_width, indexes)\u001b[0m\n\u001b[1;32m    175\u001b[0m     \u001b[39melse\u001b[39;00m:\n\u001b[1;32m    176\u001b[0m         nodata \u001b[39m=\u001b[39m \u001b[39m0\u001b[39m\n\u001b[0;32m--> 178\u001b[0m shape_mask, transform, window \u001b[39m=\u001b[39m raster_geometry_mask(\n\u001b[1;32m    179\u001b[0m     dataset, shapes, all_touched\u001b[39m=\u001b[39;49mall_touched, invert\u001b[39m=\u001b[39;49minvert, crop\u001b[39m=\u001b[39;49mcrop,\n\u001b[1;32m    180\u001b[0m     pad\u001b[39m=\u001b[39;49mpad, pad_width\u001b[39m=\u001b[39;49mpad_width)\n\u001b[1;32m    182\u001b[0m \u001b[39mif\u001b[39;00m indexes \u001b[39mis\u001b[39;00m \u001b[39mNone\u001b[39;00m:\n\u001b[1;32m    183\u001b[0m     out_shape \u001b[39m=\u001b[39m (dataset\u001b[39m.\u001b[39mcount, ) \u001b[39m+\u001b[39m shape_mask\u001b[39m.\u001b[39mshape\n",
      "File \u001b[0;32m~/anaconda3/envs/geo/lib/python3.9/site-packages/rasterio/mask.py:86\u001b[0m, in \u001b[0;36mraster_geometry_mask\u001b[0;34m(dataset, shapes, all_touched, invert, crop, pad, pad_width)\u001b[0m\n\u001b[1;32m     82\u001b[0m \u001b[39mexcept\u001b[39;00m WindowError:\n\u001b[1;32m     83\u001b[0m     \u001b[39m# If shapes do not overlap raster, raise Exception or UserWarning\u001b[39;00m\n\u001b[1;32m     84\u001b[0m     \u001b[39m# depending on value of crop\u001b[39;00m\n\u001b[1;32m     85\u001b[0m     \u001b[39mif\u001b[39;00m crop:\n\u001b[0;32m---> 86\u001b[0m         \u001b[39mraise\u001b[39;00m \u001b[39mValueError\u001b[39;00m(\u001b[39m'\u001b[39m\u001b[39mInput shapes do not overlap raster.\u001b[39m\u001b[39m'\u001b[39m)\n\u001b[1;32m     87\u001b[0m     \u001b[39melse\u001b[39;00m:\n\u001b[1;32m     88\u001b[0m         warnings\u001b[39m.\u001b[39mwarn(\u001b[39m'\u001b[39m\u001b[39mshapes are outside bounds of raster. \u001b[39m\u001b[39m'\u001b[39m\n\u001b[1;32m     89\u001b[0m                       \u001b[39m'\u001b[39m\u001b[39mAre they in different coordinate reference systems?\u001b[39m\u001b[39m'\u001b[39m)\n",
      "\u001b[0;31mValueError\u001b[0m: Input shapes do not overlap raster."
     ]
    }
   ],
   "source": [
    "out_image, out_transform = mask.mask(\n",
    "        ras_src, [geom_df.geometry], crop=True, nodata=0\n",
    "    )"
   ]
  },
  {
   "cell_type": "code",
   "execution_count": 51,
   "metadata": {},
   "outputs": [
    {
     "data": {
      "text/plain": [
       "shapely.geometry.multipolygon.MultiPolygon"
      ]
     },
     "execution_count": 51,
     "metadata": {},
     "output_type": "execute_result"
    }
   ],
   "source": [
    "geom = box_hucs.loc[box_hucs.index ==3710]\n",
    "type(geom.iloc[0].geometry)"
   ]
  },
  {
   "cell_type": "code",
   "execution_count": 44,
   "metadata": {},
   "outputs": [
    {
     "name": "stdout",
     "output_type": "stream",
     "text": [
      "<class 'geopandas.geodataframe.GeoDataFrame'>\n",
      "<class 'geopandas.geodataframe.GeoDataFrame'>\n",
      "<class 'geopandas.geodataframe.GeoDataFrame'>\n",
      "<class 'geopandas.geodataframe.GeoDataFrame'>\n"
     ]
    }
   ],
   "source": [
    "for idx in box_hucs.index:\n",
    "    print(type(box_hucs[box_hucs.index == idx]))"
   ]
  },
  {
   "cell_type": "code",
   "execution_count": 37,
   "metadata": {},
   "outputs": [
    {
     "data": {
      "text/html": [
       "<div>\n",
       "<style scoped>\n",
       "    .dataframe tbody tr th:only-of-type {\n",
       "        vertical-align: middle;\n",
       "    }\n",
       "\n",
       "    .dataframe tbody tr th {\n",
       "        vertical-align: top;\n",
       "    }\n",
       "\n",
       "    .dataframe thead th {\n",
       "        text-align: right;\n",
       "    }\n",
       "</style>\n",
       "<table border=\"1\" class=\"dataframe\">\n",
       "  <thead>\n",
       "    <tr style=\"text-align: right;\">\n",
       "      <th></th>\n",
       "      <th>tnmid</th>\n",
       "      <th>metasourceid</th>\n",
       "      <th>sourcedatadesc</th>\n",
       "      <th>sourceoriginator</th>\n",
       "      <th>sourcefeatureid</th>\n",
       "      <th>loaddate</th>\n",
       "      <th>referencegnis_ids</th>\n",
       "      <th>areaacres</th>\n",
       "      <th>areasqkm</th>\n",
       "      <th>states</th>\n",
       "      <th>huc10</th>\n",
       "      <th>name</th>\n",
       "      <th>hutype</th>\n",
       "      <th>humod</th>\n",
       "      <th>globalid</th>\n",
       "      <th>shape_Length</th>\n",
       "      <th>shape_Area</th>\n",
       "      <th>geometry</th>\n",
       "    </tr>\n",
       "  </thead>\n",
       "  <tbody>\n",
       "    <tr>\n",
       "      <th>3710</th>\n",
       "      <td>{1059C95A-DA39-45C0-AF72-D896A949B90C}</td>\n",
       "      <td>{DB2246FE-D96C-44A3-8C38-0539394FEC62}</td>\n",
       "      <td>NaN</td>\n",
       "      <td>NaN</td>\n",
       "      <td>NaN</td>\n",
       "      <td>2017-09-28 10:20:54+00:00</td>\n",
       "      <td>NaN</td>\n",
       "      <td>134731.71</td>\n",
       "      <td>545.24</td>\n",
       "      <td>AR,OK</td>\n",
       "      <td>1111010306</td>\n",
       "      <td>Upper Illinois River</td>\n",
       "      <td>S</td>\n",
       "      <td>NM</td>\n",
       "      <td>{1D31A8FD-E29C-11E2-8094-0021280458E6}</td>\n",
       "      <td>1.442318</td>\n",
       "      <td>0.054566</td>\n",
       "      <td>MULTIPOLYGON (((-94.43650 36.24258, -94.43536 ...</td>\n",
       "    </tr>\n",
       "    <tr>\n",
       "      <th>7679</th>\n",
       "      <td>{D59A5605-C253-4E56-97CA-4042401FE084}</td>\n",
       "      <td>{DB2246FE-D96C-44A3-8C38-0539394FEC62}</td>\n",
       "      <td>NaN</td>\n",
       "      <td>NaN</td>\n",
       "      <td>NaN</td>\n",
       "      <td>2017-09-28 10:20:48+00:00</td>\n",
       "      <td>NaN</td>\n",
       "      <td>72147.54</td>\n",
       "      <td>291.97</td>\n",
       "      <td>AR</td>\n",
       "      <td>1111010304</td>\n",
       "      <td>Headwaters Illinois River</td>\n",
       "      <td>S</td>\n",
       "      <td>NM</td>\n",
       "      <td>{1C791953-E29C-11E2-8094-0021280458E6}</td>\n",
       "      <td>1.287897</td>\n",
       "      <td>0.029190</td>\n",
       "      <td>MULTIPOLYGON (((-94.36458 36.19020, -94.36318 ...</td>\n",
       "    </tr>\n",
       "    <tr>\n",
       "      <th>10012</th>\n",
       "      <td>{A3B8EEEB-1E02-4381-A99D-0E513BB443B7}</td>\n",
       "      <td>{DB2246FE-D96C-44A3-8C38-0539394FEC62}</td>\n",
       "      <td>NaN</td>\n",
       "      <td>NaN</td>\n",
       "      <td>NaN</td>\n",
       "      <td>2022-09-07 10:46:41+00:00</td>\n",
       "      <td>NaN</td>\n",
       "      <td>49218.97</td>\n",
       "      <td>199.18</td>\n",
       "      <td>AR</td>\n",
       "      <td>1111010302</td>\n",
       "      <td>Clear Creek</td>\n",
       "      <td>S</td>\n",
       "      <td>NM</td>\n",
       "      <td>{1C7937FE-E29C-11E2-8094-0021280458E6}</td>\n",
       "      <td>0.796932</td>\n",
       "      <td>0.019939</td>\n",
       "      <td>MULTIPOLYGON (((-94.20574 36.17578, -94.20424 ...</td>\n",
       "    </tr>\n",
       "    <tr>\n",
       "      <th>10013</th>\n",
       "      <td>{ED5365C6-6324-47FE-9E7F-BF7A976160F6}</td>\n",
       "      <td>{DB2246FE-D96C-44A3-8C38-0539394FEC62}</td>\n",
       "      <td>NaN</td>\n",
       "      <td>NaN</td>\n",
       "      <td>NaN</td>\n",
       "      <td>2022-09-07 10:46:41+00:00</td>\n",
       "      <td>NaN</td>\n",
       "      <td>132051.11</td>\n",
       "      <td>534.39</td>\n",
       "      <td>AR</td>\n",
       "      <td>1111010303</td>\n",
       "      <td>Osage Creek</td>\n",
       "      <td>S</td>\n",
       "      <td>NM</td>\n",
       "      <td>{1C794F94-E29C-11E2-8094-0021280458E6}</td>\n",
       "      <td>1.343960</td>\n",
       "      <td>0.053586</td>\n",
       "      <td>MULTIPOLYGON (((-94.19787 36.36258, -94.19755 ...</td>\n",
       "    </tr>\n",
       "  </tbody>\n",
       "</table>\n",
       "</div>"
      ],
      "text/plain": [
       "                                        tnmid  \\\n",
       "3710   {1059C95A-DA39-45C0-AF72-D896A949B90C}   \n",
       "7679   {D59A5605-C253-4E56-97CA-4042401FE084}   \n",
       "10012  {A3B8EEEB-1E02-4381-A99D-0E513BB443B7}   \n",
       "10013  {ED5365C6-6324-47FE-9E7F-BF7A976160F6}   \n",
       "\n",
       "                                 metasourceid sourcedatadesc sourceoriginator  \\\n",
       "3710   {DB2246FE-D96C-44A3-8C38-0539394FEC62}            NaN              NaN   \n",
       "7679   {DB2246FE-D96C-44A3-8C38-0539394FEC62}            NaN              NaN   \n",
       "10012  {DB2246FE-D96C-44A3-8C38-0539394FEC62}            NaN              NaN   \n",
       "10013  {DB2246FE-D96C-44A3-8C38-0539394FEC62}            NaN              NaN   \n",
       "\n",
       "      sourcefeatureid                  loaddate referencegnis_ids  areaacres  \\\n",
       "3710              NaN 2017-09-28 10:20:54+00:00               NaN  134731.71   \n",
       "7679              NaN 2017-09-28 10:20:48+00:00               NaN   72147.54   \n",
       "10012             NaN 2022-09-07 10:46:41+00:00               NaN   49218.97   \n",
       "10013             NaN 2022-09-07 10:46:41+00:00               NaN  132051.11   \n",
       "\n",
       "       areasqkm states       huc10                       name hutype humod  \\\n",
       "3710     545.24  AR,OK  1111010306       Upper Illinois River      S    NM   \n",
       "7679     291.97     AR  1111010304  Headwaters Illinois River      S    NM   \n",
       "10012    199.18     AR  1111010302                Clear Creek      S    NM   \n",
       "10013    534.39     AR  1111010303                Osage Creek      S    NM   \n",
       "\n",
       "                                     globalid  shape_Length  shape_Area  \\\n",
       "3710   {1D31A8FD-E29C-11E2-8094-0021280458E6}      1.442318    0.054566   \n",
       "7679   {1C791953-E29C-11E2-8094-0021280458E6}      1.287897    0.029190   \n",
       "10012  {1C7937FE-E29C-11E2-8094-0021280458E6}      0.796932    0.019939   \n",
       "10013  {1C794F94-E29C-11E2-8094-0021280458E6}      1.343960    0.053586   \n",
       "\n",
       "                                                geometry  \n",
       "3710   MULTIPOLYGON (((-94.43650 36.24258, -94.43536 ...  \n",
       "7679   MULTIPOLYGON (((-94.36458 36.19020, -94.36318 ...  \n",
       "10012  MULTIPOLYGON (((-94.20574 36.17578, -94.20424 ...  \n",
       "10013  MULTIPOLYGON (((-94.19787 36.36258, -94.19755 ...  "
      ]
     },
     "execution_count": 37,
     "metadata": {},
     "output_type": "execute_result"
    }
   ],
   "source": [
    "box_hucs"
   ]
  },
  {
   "cell_type": "code",
   "execution_count": null,
   "metadata": {},
   "outputs": [],
   "source": []
  }
 ],
 "metadata": {
  "kernelspec": {
   "display_name": "geo",
   "language": "python",
   "name": "python3"
  },
  "language_info": {
   "codemirror_mode": {
    "name": "ipython",
    "version": 3
   },
   "file_extension": ".py",
   "mimetype": "text/x-python",
   "name": "python",
   "nbconvert_exporter": "python",
   "pygments_lexer": "ipython3",
   "version": "3.9.16"
  },
  "orig_nbformat": 4
 },
 "nbformat": 4,
 "nbformat_minor": 2
}
