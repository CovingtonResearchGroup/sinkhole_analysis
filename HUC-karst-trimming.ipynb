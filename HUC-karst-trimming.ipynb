{
 "cells": [
  {
   "cell_type": "code",
   "execution_count": null,
   "metadata": {},
   "outputs": [],
   "source": [
    "import geopandas as gpd"
   ]
  },
  {
   "cell_type": "code",
   "execution_count": null,
   "metadata": {},
   "outputs": [],
   "source": [
    "huc = gpd.read_file('qgis/C-Pennsylvania_3/box_hucs.shp')"
   ]
  },
  {
   "cell_type": "code",
   "execution_count": null,
   "metadata": {},
   "outputs": [],
   "source": [
    "huc.iloc[0].geometry"
   ]
  },
  {
   "cell_type": "code",
   "execution_count": null,
   "metadata": {},
   "outputs": [],
   "source": [
    "huc.crs"
   ]
  },
  {
   "cell_type": "code",
   "execution_count": null,
   "metadata": {},
   "outputs": [],
   "source": [
    "type(huc.iloc[0].geometry)"
   ]
  },
  {
   "cell_type": "code",
   "execution_count": null,
   "metadata": {},
   "outputs": [],
   "source": [
    "huc_carbs = gpd.read_file('./USGS-Karst-Map/Dissolved_carbonates_seperate_polys_E_B3.shp', mask=huc.iloc[0].geometry)"
   ]
  },
  {
   "cell_type": "code",
   "execution_count": null,
   "metadata": {},
   "outputs": [],
   "source": [
    "huc_carbs.crs"
   ]
  },
  {
   "cell_type": "code",
   "execution_count": null,
   "metadata": {},
   "outputs": [],
   "source": [
    "huc_carbs.iloc[0].geometry"
   ]
  },
  {
   "cell_type": "code",
   "execution_count": null,
   "metadata": {},
   "outputs": [],
   "source": [
    "huc_carbs"
   ]
  },
  {
   "cell_type": "code",
   "execution_count": null,
   "metadata": {},
   "outputs": [],
   "source": [
    "carbs_dissolved = huc_carbs.dissolve()"
   ]
  },
  {
   "cell_type": "code",
   "execution_count": null,
   "metadata": {},
   "outputs": [],
   "source": [
    "len(huc_carbs)"
   ]
  },
  {
   "cell_type": "code",
   "execution_count": null,
   "metadata": {},
   "outputs": [],
   "source": [
    "from pandas import read_csv\n",
    "import matplotlib.pyplot as plt \n",
    "\n",
    "df_untrimmed = read_csv('Combined-concat-before-karst-trim.csv', index_col=0)\n",
    "df_trimmed = read_csv('Combined-concat.csv', index_col=0)"
   ]
  },
  {
   "cell_type": "code",
   "execution_count": null,
   "metadata": {},
   "outputs": [],
   "source": [
    "df_joined = df_untrimmed.join(df_trimmed, lsuffix='untrimmed', rsuffix='trimmed')\n"
   ]
  },
  {
   "cell_type": "code",
   "execution_count": null,
   "metadata": {},
   "outputs": [],
   "source": []
  },
  {
   "cell_type": "code",
   "execution_count": null,
   "metadata": {},
   "outputs": [],
   "source": [
    "\n",
    "plt.loglog(df_joined.p_karstuntrimmed, df_joined.p_karsttrimmed, 'o')\n",
    "plt.xlabel('Untrimmed p_karst')\n",
    "plt.ylabel('Trimmed p_karst')\n",
    "plt.xlim([0,0.15])\n",
    "plt.ylim([0,0.15])"
   ]
  },
  {
   "cell_type": "code",
   "execution_count": null,
   "metadata": {},
   "outputs": [],
   "source": [
    "import numpy as np"
   ]
  },
  {
   "cell_type": "code",
   "execution_count": null,
   "metadata": {},
   "outputs": [],
   "source": [
    "df_joined[np.logical_and(df_joined.p_karsttrimmed<0.5e-4, df_joined.p_karstuntrimmed>3e-3)]"
   ]
  },
  {
   "cell_type": "code",
   "execution_count": null,
   "metadata": {},
   "outputs": [],
   "source": [
    "geom = huc.iloc[0].geometry"
   ]
  },
  {
   "cell_type": "code",
   "execution_count": null,
   "metadata": {},
   "outputs": [],
   "source": [
    "carbs_only_huc = geom.intersection(carbs_dissolved.iloc[0].geometry)"
   ]
  },
  {
   "cell_type": "code",
   "execution_count": null,
   "metadata": {},
   "outputs": [],
   "source": [
    "carbs_only_huc"
   ]
  },
  {
   "cell_type": "code",
   "execution_count": null,
   "metadata": {},
   "outputs": [],
   "source": [
    "df = gpd.GeoDataFrame({'geometry':[carbs_only_huc]}, crs=huc.crs)\n",
    "df.to_file('test-carbs-only.shp')"
   ]
  },
  {
   "cell_type": "code",
   "execution_count": null,
   "metadata": {},
   "outputs": [],
   "source": [
    "huc.iloc[0]"
   ]
  },
  {
   "cell_type": "code",
   "execution_count": null,
   "metadata": {},
   "outputs": [],
   "source": [
    "import rasterio as rio\n"
   ]
  },
  {
   "cell_type": "code",
   "execution_count": null,
   "metadata": {},
   "outputs": [],
   "source": [
    "dem_src = rio.open('qgis/C-Pennsylvania_3/020503020103/020503020103-USGS.tif')"
   ]
  },
  {
   "cell_type": "code",
   "execution_count": null,
   "metadata": {},
   "outputs": [],
   "source": [
    "ndv = dem_src.nodata\n",
    "ndv"
   ]
  },
  {
   "cell_type": "code",
   "execution_count": null,
   "metadata": {},
   "outputs": [],
   "source": [
    "dem_src.crs"
   ]
  },
  {
   "cell_type": "code",
   "execution_count": null,
   "metadata": {},
   "outputs": [],
   "source": [
    "ndv"
   ]
  },
  {
   "cell_type": "code",
   "execution_count": null,
   "metadata": {},
   "outputs": [],
   "source": [
    "dem_untrimmed = dem_src.read()\n",
    "len(dem_untrimmed[dem_untrimmed>0])"
   ]
  },
  {
   "cell_type": "code",
   "execution_count": null,
   "metadata": {},
   "outputs": [],
   "source": [
    "out_image, out_transform = mask.mask(dem_src, [carbs_only_huc], crop=True, nodata=ndv)"
   ]
  },
  {
   "cell_type": "code",
   "execution_count": null,
   "metadata": {},
   "outputs": [],
   "source": [
    "len(out_image[out_image>0])"
   ]
  },
  {
   "cell_type": "code",
   "execution_count": null,
   "metadata": {},
   "outputs": [],
   "source": [
    "plt.imshow(dem_src.read()[0])"
   ]
  },
  {
   "cell_type": "code",
   "execution_count": null,
   "metadata": {},
   "outputs": [],
   "source": [
    "import rasterio.mask as mask\n"
   ]
  },
  {
   "cell_type": "code",
   "execution_count": null,
   "metadata": {},
   "outputs": [],
   "source": [
    "from whitebox.whitebox_tools import WhiteboxTools\n"
   ]
  },
  {
   "cell_type": "code",
   "execution_count": null,
   "metadata": {},
   "outputs": [],
   "source": [
    "out_image, out_transform = mask.mask(dem_src, [carbs_only_huc], crop=True, nodata=ndv)"
   ]
  },
  {
   "cell_type": "code",
   "execution_count": null,
   "metadata": {},
   "outputs": [],
   "source": [
    "plt.imshow(out_image[0])"
   ]
  },
  {
   "cell_type": "code",
   "execution_count": null,
   "metadata": {},
   "outputs": [],
   "source": [
    "from sinkhole_functions import calc_karst_fraction"
   ]
  },
  {
   "cell_type": "code",
   "execution_count": null,
   "metadata": {},
   "outputs": [],
   "source": [
    "calc_karst_fraction('./qgis/C-Pennsylvania_3/020503020103/','020503020103-USGS.tif', \n",
    "                    sinksfile='qgis/C-Pennsylvania_3/020503020103/020503020103-sinks-karst_depression_polys_conus.tif',\n",
    "                    basefilename='test')"
   ]
  },
  {
   "cell_type": "code",
   "execution_count": null,
   "metadata": {},
   "outputs": [],
   "source": [
    "wbt = WhiteboxTools()\n"
   ]
  },
  {
   "cell_type": "code",
   "execution_count": null,
   "metadata": {},
   "outputs": [],
   "source": [
    "!ls ./qgis/C-Pennsylvania_3/020503020103/020503020103-USGS.tif"
   ]
  },
  {
   "cell_type": "code",
   "execution_count": null,
   "metadata": {},
   "outputs": [],
   "source": [
    "wbt.mean_filter('/home/mcoving/github/sinkhole_analysis/qgis/C-Pennsylvania_3/020503020103/020503020103-USGS.tif', 'test-smoothed.tif', 5, 5)"
   ]
  },
  {
   "cell_type": "code",
   "execution_count": null,
   "metadata": {},
   "outputs": [],
   "source": [
    "import os"
   ]
  },
  {
   "cell_type": "code",
   "execution_count": null,
   "metadata": {},
   "outputs": [],
   "source": [
    "sinks_dataset = 'Combined\"'\n",
    "ans = input(\"Are you sure you want to delete all csv files for \"+sinks_dataset+\"? (y/n)\")\n",
    "print(ans)"
   ]
  },
  {
   "cell_type": "code",
   "execution_count": null,
   "metadata": {},
   "outputs": [],
   "source": [
    "import rasterio as rio\n",
    "from whitebox.whitebox_tools import WhiteboxTools\n",
    "import geopandas as gpd\n",
    "\n",
    "import os\n",
    "\n",
    "wbt = WhiteboxTools()\n",
    "\n",
    "datadir = './qgis/AlachuaCounty_FL_DevilsMillhopper/030801021000/'\n",
    "demfile = '030801021000-USGS.tif'\n",
    "sinksfile = './qgis/AlachuaCounty_FL_DevilsMillhopper/030801021000/030801021000-sinks-karst_depression_polys_conus.tif'\n",
    "basefilename = '030801021000-USGS'\n",
    "hucs = gpd.read_file('qgis/AlachuaCounty_FL_DevilsMillhopper/box_hucs.shp')\n",
    "huc = hucs.iloc[0]"
   ]
  },
  {
   "cell_type": "code",
   "execution_count": null,
   "metadata": {},
   "outputs": [],
   "source": [
    "os.path.join(datadir,demfile.split('-')[0]+'carbs_only_huc.shp' )"
   ]
  },
  {
   "cell_type": "code",
   "execution_count": null,
   "metadata": {},
   "outputs": [],
   "source": [
    "datadir = os.path.abspath(datadir)\n",
    "sinksfile = os.path.abspath(sinksfile)\n",
    "# Define filenames\n",
    "dempath = os.path.join(datadir, demfile)\n",
    "pitfill_dempath = os.path.join(datadir, demfile[:-4] + \"-pitfill.tif\")\n",
    "smoothed_dempath = os.path.join(datadir, demfile[:-4] + \"-smoothed.tif\")\n",
    "sinkspath = os.path.join(datadir, demfile[:-4] + \"-sinks.tif\")\n",
    "d8path = os.path.join(datadir, demfile[:-4] + \"-d8.tif\")\n",
    "watershedspath = os.path.join(datadir, basefilename + \"-catchments.tif\")\n"
   ]
  },
  {
   "cell_type": "code",
   "execution_count": null,
   "metadata": {},
   "outputs": [],
   "source": [
    "wbt.mean_filter(dempath, smoothed_dempath, 5, 5)"
   ]
  },
  {
   "cell_type": "code",
   "execution_count": null,
   "metadata": {},
   "outputs": [],
   "source": [
    "wbt.fill_single_cell_pits(smoothed_dempath, pitfill_dempath)"
   ]
  },
  {
   "cell_type": "code",
   "execution_count": null,
   "metadata": {},
   "outputs": [],
   "source": [
    "sinkspath= sinksfile"
   ]
  },
  {
   "cell_type": "code",
   "execution_count": null,
   "metadata": {},
   "outputs": [],
   "source": [
    "wbt.d8_pointer(pitfill_dempath, d8path)"
   ]
  },
  {
   "cell_type": "code",
   "execution_count": null,
   "metadata": {},
   "outputs": [],
   "source": [
    "wbt.watershed(d8path, sinkspath, watershedspath)\n"
   ]
  },
  {
   "cell_type": "code",
   "execution_count": null,
   "metadata": {},
   "outputs": [],
   "source": [
    "wat_src = rio.open(watershedspath)\n",
    "wat = wat_src.read()\n",
    "dem_src = rio.open(dempath)\n",
    "wat_elev = dem_src.read()\n",
    "ndv = dem_src.nodata\n"
   ]
  },
  {
   "cell_type": "code",
   "execution_count": null,
   "metadata": {},
   "outputs": [],
   "source": [
    "huc_geom = huc.geometry\n",
    "huc_carbs = gpd.read_file('./USGS-Karst-Map/Dissolved_carbonates_E_B3.shp', mask=huc_geom)"
   ]
  },
  {
   "cell_type": "code",
   "execution_count": null,
   "metadata": {},
   "outputs": [],
   "source": []
  },
  {
   "cell_type": "code",
   "execution_count": null,
   "metadata": {},
   "outputs": [],
   "source": [
    "huc_carbs.iloc[0].geometry"
   ]
  },
  {
   "cell_type": "code",
   "execution_count": null,
   "metadata": {},
   "outputs": [],
   "source": [
    "carbs_dissolved = huc_carbs.dissolve()\n"
   ]
  },
  {
   "cell_type": "code",
   "execution_count": null,
   "metadata": {},
   "outputs": [],
   "source": [
    "type(huc_geom)"
   ]
  },
  {
   "cell_type": "code",
   "execution_count": null,
   "metadata": {},
   "outputs": [],
   "source": [
    "carbs_only_huc = huc_geom.intersection(carbs_dissolved.iloc[0].geometry)"
   ]
  },
  {
   "cell_type": "code",
   "execution_count": null,
   "metadata": {},
   "outputs": [],
   "source": [
    "carbs_only_huc\n"
   ]
  },
  {
   "cell_type": "code",
   "execution_count": null,
   "metadata": {},
   "outputs": [],
   "source": [
    "huc_geom"
   ]
  },
  {
   "cell_type": "code",
   "execution_count": null,
   "metadata": {},
   "outputs": [],
   "source": [
    "wat_elev, wat_out_transform = rio.mask.mask(dem_src, [carbs_only_huc], crop=True)\n",
    "wat, wat_elev_out_transform = rio.mask.mask(wat_src, [carbs_only_huc], crop=True)\n"
   ]
  },
  {
   "cell_type": "code",
   "execution_count": null,
   "metadata": {},
   "outputs": [],
   "source": [
    "plt.imshow(wat[0])"
   ]
  },
  {
   "cell_type": "code",
   "execution_count": null,
   "metadata": {},
   "outputs": [],
   "source": [
    "nkarst = len(wat[wat > 0])\n",
    "ntotal = len(wat_elev[wat_elev != ndv])\n",
    "nfluvial = ntotal - nkarst\n",
    "print(\"n karst draining pixels =\", nkarst)\n",
    "print(\"n fluvial draining pixels =\", nfluvial)\n",
    "p_karst = nkarst / (nkarst + nfluvial)\n",
    "print(\"percent karst =\", p_karst)"
   ]
  },
  {
   "cell_type": "code",
   "execution_count": null,
   "metadata": {},
   "outputs": [],
   "source": [
    "import os\n",
    "\n",
    "os.environ[\"USE_PYGEOS\"] = \"0\"\n",
    "import geopandas as gpd\n",
    "from karstification import calc_karstification_for_HU12\n",
    "from pandas import read_excel\n",
    "from pynhd import pynhd\n",
    "import py3dep\n",
    "from shapely import box\n",
    "import os\n",
    "import sys\n",
    "import string\n",
    "import warnings\n",
    "import multiprocessing\n",
    "import pickle\n",
    "from random import randint\n",
    "import time\n",
    "import argparse\n",
    "from functools import partial\n",
    "\n",
    "\n",
    "hr = pynhd.NHDPlusHR(\"huc12\")\n",
    "huc12 = pynhd.WaterData(\"wbd12\", crs=\"epsg:4326\")\n",
    "box_df = read_excel(\"bounding_boxes.xlsx\")\n",
    "# box_df = read_excel(\"bounding_boxes_small.xlsx\")\n",
    "bbox_zip = zip(box_df.x_min, box_df.y_min, box_df.x_max, box_df.y_max)\n",
    "project_dir = \"./qgis\"\n"
   ]
  },
  {
   "cell_type": "code",
   "execution_count": null,
   "metadata": {},
   "outputs": [],
   "source": [
    "for i, bbox in enumerate(bbox_zip):\n",
    "    if bbox[2] < bbox[0]:\n",
    "        print('fixing x')\n",
    "        # X min and max are switched\n",
    "        bbox = (bbox[2], bbox[1], bbox[0], bbox[3])\n",
    "    if bbox[3] < bbox[1]:\n",
    "        print('fixing y')\n",
    "        # X min and max are switched\n",
    "        bbox = (bbox[0], bbox[3], bbox[2], bbox[1])\n",
    "    print('i=',i, bbox)\n",
    "    huc12.bybox(bbox)"
   ]
  },
  {
   "cell_type": "code",
   "execution_count": null,
   "metadata": {},
   "outputs": [],
   "source": [
    "avail = py3dep.check_3dep_availability(bbox)"
   ]
  },
  {
   "cell_type": "code",
   "execution_count": null,
   "metadata": {},
   "outputs": [],
   "source": [
    "huc12.bybox(bbox)"
   ]
  },
  {
   "cell_type": "code",
   "execution_count": null,
   "metadata": {},
   "outputs": [],
   "source": [
    "carbs_dissolved"
   ]
  },
  {
   "cell_type": "code",
   "execution_count": null,
   "metadata": {},
   "outputs": [],
   "source": [
    "box_list = []\n",
    "for box in bbox_zip:\n",
    "    box_list.append(box)"
   ]
  },
  {
   "cell_type": "code",
   "execution_count": null,
   "metadata": {},
   "outputs": [],
   "source": [
    "box_list"
   ]
  },
  {
   "cell_type": "code",
   "execution_count": null,
   "metadata": {},
   "outputs": [],
   "source": [
    "bbox_zip"
   ]
  },
  {
   "cell_type": "code",
   "execution_count": null,
   "metadata": {},
   "outputs": [],
   "source": []
  }
 ],
 "metadata": {
  "kernelspec": {
   "display_name": "geo",
   "language": "python",
   "name": "python3"
  },
  "language_info": {
   "codemirror_mode": {
    "name": "ipython",
    "version": 3
   },
   "file_extension": ".py",
   "mimetype": "text/x-python",
   "name": "python",
   "nbconvert_exporter": "python",
   "pygments_lexer": "ipython3",
   "version": "3.9.16"
  },
  "orig_nbformat": 4
 },
 "nbformat": 4,
 "nbformat_minor": 2
}
