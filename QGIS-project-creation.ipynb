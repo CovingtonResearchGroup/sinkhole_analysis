{
 "cells": [
  {
   "cell_type": "code",
   "execution_count": 1,
   "id": "54752d37",
   "metadata": {},
   "outputs": [],
   "source": [
    "from qgis.core import (QgsProject, \n",
    "                      QgsApplication, \n",
    "                      QgsRasterLayer, \n",
    "                      QgsVectorLayer, \n",
    "                      QgsPalettedRasterRenderer, \n",
    "                      QgsRandomColorRamp)"
   ]
  },
  {
   "cell_type": "code",
   "execution_count": 2,
   "metadata": {},
   "outputs": [
    {
     "data": {
      "text/plain": [
       "True"
      ]
     },
     "execution_count": 2,
     "metadata": {},
     "output_type": "execute_result"
    }
   ],
   "source": [
    "QgsApplication.setPrefixPath(\"/home/mcoving/anaconda3/envs/geo_env/bin/qgis\", True)\n",
    "\n",
    "qgs = QgsApplication([], False)\n",
    "qgs.initQgis()\n",
    "\n",
    "# Create a project instance\n",
    "project = QgsProject.instance()\n",
    "\n",
    "raster_path = \"NHD-data/111101030606-wat.tif\"\n",
    "rasterLayer = QgsRasterLayer(raster_path, \"Sinkhole basins\", \"gdal\")\n",
    "vector_path = \"HUC-1111010306-sinks-karst_depression_polys_conus.shp\"\n",
    "vectorLayer = QgsVectorLayer(vector_path, \"Sinkhole polygons\", \"ogr\")\n",
    "url_with_params = \"contextualWMSLegend=0&crs=EPSG:4326&dpiMode=7&featureCount=10&format=image/tiff&layers=3DEPElevation:Hillshade%20Gray&styles&url=https://elevation.nationalmap.gov/arcgis/services/3DEPElevation/ImageServer/WMSServer\"\n",
    "WMSLayer = QgsRasterLayer(url_with_params, '3DEP Hillshade', 'wms')\n",
    "\n",
    "project.addMapLayers([rasterLayer, vectorLayer, WMSLayer])\n",
    "\n",
    "classes = QgsPalettedRasterRenderer.classDataFromRaster(rasterLayer.dataProvider(), 1, QgsRandomColorRamp())\n",
    "paletted_renderer = QgsPalettedRasterRenderer(rasterLayer.dataProvider(), 1, classes)\n",
    "rasterLayer.setRenderer(paletted_renderer)\n",
    "rasterLayer.setOpacity(0.5)\n",
    "\n",
    "project.write('test.qgs')\n",
    "\n",
    "#qgs.exitQgis()"
   ]
  },
  {
   "cell_type": "code",
   "execution_count": 3,
   "id": "b985ed16",
   "metadata": {},
   "outputs": [
    {
     "name": "stdout",
     "output_type": "stream",
     "text": [
      "True\n"
     ]
    }
   ],
   "source": [
    "url_with_params = \"contextualWMSLegend=0&crs=EPSG:4326&dpiMode=7&featureCount=10&format=image/tiff&layers=3DEPElevation:Hillshade%20Gray&styles&url=https://elevation.nationalmap.gov/arcgis/services/3DEPElevation/ImageServer/WMSServer\"\n",
    "WMSLayer = QgsRasterLayer(url_with_params, '3DEP Hillshade', 'wms')\n",
    "print(WMSLayer.isValid())"
   ]
  },
  {
   "cell_type": "code",
   "execution_count": 4,
   "id": "be05f247",
   "metadata": {},
   "outputs": [
    {
     "data": {
      "text/plain": [
       "<QgsRasterLayer: '3DEP Hillshade' (wms)>"
      ]
     },
     "execution_count": 4,
     "metadata": {},
     "output_type": "execute_result"
    }
   ],
   "source": [
    "project.addMapLayer(WMSLayer)"
   ]
  },
  {
   "cell_type": "code",
   "execution_count": 69,
   "id": "447d71b6",
   "metadata": {},
   "outputs": [
    {
     "data": {
      "text/plain": [
       "True"
      ]
     },
     "execution_count": 69,
     "metadata": {},
     "output_type": "execute_result"
    }
   ],
   "source": [
    "project.write('test.qgs')"
   ]
  },
  {
   "cell_type": "code",
   "execution_count": 5,
   "id": "5b41bad2",
   "metadata": {},
   "outputs": [],
   "source": [
    "qgs.exitQgis()"
   ]
  },
  {
   "cell_type": "code",
   "execution_count": 7,
   "id": "f8ba7031",
   "metadata": {},
   "outputs": [
    {
     "name": "stdout",
     "output_type": "stream",
     "text": [
      "<qgis._core.QgsSingleBandGrayRenderer object at 0x7f303d147370>\n"
     ]
    }
   ],
   "source": [
    "print(rasterLayer.renderer())"
   ]
  },
  {
   "cell_type": "code",
   "execution_count": 9,
   "id": "61205b0e",
   "metadata": {},
   "outputs": [
    {
     "ename": "TypeError",
     "evalue": "QgsRasterLayer.setRenderer(): argument 1 has unexpected type 'sip.wrappertype'",
     "output_type": "error",
     "traceback": [
      "\u001b[0;31m---------------------------------------------------------------------------\u001b[0m",
      "\u001b[0;31mTypeError\u001b[0m                                 Traceback (most recent call last)",
      "\u001b[1;32m/home/mcoving/github/sinkhole_analysis/QGIS-project-creation.ipynb Cell 8\u001b[0m in \u001b[0;36m1\n\u001b[0;32m----> <a href='vscode-notebook-cell:/home/mcoving/github/sinkhole_analysis/QGIS-project-creation.ipynb#X10sZmlsZQ%3D%3D?line=0'>1</a>\u001b[0m rasterLayer\u001b[39m.\u001b[39;49msetRenderer(QgsPalettedRasterRenderer)\n",
      "\u001b[0;31mTypeError\u001b[0m: QgsRasterLayer.setRenderer(): argument 1 has unexpected type 'sip.wrappertype'"
     ]
    }
   ],
   "source": [
    "rasterLayer.setRenderer(QgsPalettedRasterRenderer)"
   ]
  },
  {
   "cell_type": "code",
   "execution_count": 18,
   "id": "8aa9499f",
   "metadata": {},
   "outputs": [
    {
     "ename": "TypeError",
     "evalue": "QgsPalettedRasterRenderer(): argument 3 has unexpected type 'QgsRandomColorRamp'",
     "output_type": "error",
     "traceback": [
      "\u001b[0;31m---------------------------------------------------------------------------\u001b[0m",
      "\u001b[0;31mTypeError\u001b[0m                                 Traceback (most recent call last)",
      "\u001b[1;32m/home/mcoving/github/sinkhole_analysis/QGIS-project-creation.ipynb Cell 9\u001b[0m in \u001b[0;36m1\n\u001b[0;32m----> <a href='vscode-notebook-cell:/home/mcoving/github/sinkhole_analysis/QGIS-project-creation.ipynb#X12sZmlsZQ%3D%3D?line=0'>1</a>\u001b[0m paletted_renderer \u001b[39m=\u001b[39m QgsPalettedRasterRenderer(rasterLayer\u001b[39m.\u001b[39;49mdataProvider(), \u001b[39m1\u001b[39;49m, QgsRandomColorRamp())\n",
      "\u001b[0;31mTypeError\u001b[0m: QgsPalettedRasterRenderer(): argument 3 has unexpected type 'QgsRandomColorRamp'"
     ]
    }
   ],
   "source": [
    "paletted_renderer = QgsPalettedRasterRenderer(rasterLayer.dataProvider(), 1, QgsRandomColorRamp())"
   ]
  },
  {
   "cell_type": "code",
   "execution_count": 13,
   "id": "eb42270e",
   "metadata": {},
   "outputs": [
    {
     "data": {
      "text/plain": [
       "0"
      ]
     },
     "execution_count": 13,
     "metadata": {},
     "output_type": "execute_result"
    }
   ],
   "source": [
    "rasterLayer.rasterType()"
   ]
  },
  {
   "cell_type": "code",
   "execution_count": 19,
   "id": "050ad901",
   "metadata": {},
   "outputs": [],
   "source": [
    "from qgis.core import QgsColorRamp, QgsColorRampShader"
   ]
  },
  {
   "cell_type": "code",
   "execution_count": 16,
   "id": "476161c6",
   "metadata": {},
   "outputs": [
    {
     "data": {
      "text/plain": [
       "[('gradient', 'Gradient'),\n",
       " ('preset', 'Color Presets'),\n",
       " ('random', 'Random'),\n",
       " ('cpt-city', 'Catalog: cpt-city'),\n",
       " ('colorbrewer', 'Catalog: ColorBrewer')]"
      ]
     },
     "execution_count": 16,
     "metadata": {},
     "output_type": "execute_result"
    }
   ],
   "source": [
    "QgsColorRamp.rampTypes()"
   ]
  },
  {
   "cell_type": "code",
   "execution_count": 17,
   "id": "47c10b71",
   "metadata": {},
   "outputs": [
    {
     "ename": "AttributeError",
     "evalue": "'builtin_function_or_method' object has no attribute 'updateColorRamp'",
     "output_type": "error",
     "traceback": [
      "\u001b[0;31m---------------------------------------------------------------------------\u001b[0m",
      "\u001b[0;31mAttributeError\u001b[0m                            Traceback (most recent call last)",
      "\u001b[1;32m/home/mcoving/github/sinkhole_analysis/QGIS-project-creation.ipynb Cell 13\u001b[0m in \u001b[0;36m2\n\u001b[1;32m      <a href='vscode-notebook-cell:/home/mcoving/github/sinkhole_analysis/QGIS-project-creation.ipynb#X20sZmlsZQ%3D%3D?line=0'>1</a>\u001b[0m \u001b[39mfrom\u001b[39;00m \u001b[39mqgis\u001b[39;00m\u001b[39m.\u001b[39;00m\u001b[39mcore\u001b[39;00m \u001b[39mimport\u001b[39;00m QgsRandomColorRamp\n\u001b[0;32m----> <a href='vscode-notebook-cell:/home/mcoving/github/sinkhole_analysis/QGIS-project-creation.ipynb#X20sZmlsZQ%3D%3D?line=1'>2</a>\u001b[0m rasterLayer\u001b[39m.\u001b[39;49mrenderer\u001b[39m.\u001b[39;49mupdateColorRamp(QgsRandomColorRamp())\n",
      "\u001b[0;31mAttributeError\u001b[0m: 'builtin_function_or_method' object has no attribute 'updateColorRamp'"
     ]
    }
   ],
   "source": [
    "from qgis.core import QgsRandomColorRamp\n",
    "rasterLayer.renderer.updateColorRamp(QgsRandomColorRamp())"
   ]
  },
  {
   "cell_type": "code",
   "execution_count": 25,
   "id": "63e2523c",
   "metadata": {},
   "outputs": [
    {
     "name": "stdout",
     "output_type": "stream",
     "text": [
      "<qgis._core.QgsLayerMetadata object at 0x7f2f683bab00>\n"
     ]
    }
   ],
   "source": [
    "md = rasterLayer.metadata()"
   ]
  },
  {
   "cell_type": "code",
   "execution_count": 26,
   "id": "b0b8da90",
   "metadata": {},
   "outputs": [],
   "source": [
    "dp = rasterLayer.dataProvider()"
   ]
  },
  {
   "cell_type": "code",
   "execution_count": 33,
   "id": "35f3adbe",
   "metadata": {},
   "outputs": [
    {
     "ename": "TypeError",
     "evalue": "QgsRasterDataProvider.initStatistics(): argument 1 has unexpected type 'int'",
     "output_type": "error",
     "traceback": [
      "\u001b[0;31m---------------------------------------------------------------------------\u001b[0m",
      "\u001b[0;31mTypeError\u001b[0m                                 Traceback (most recent call last)",
      "\u001b[1;32m/home/mcoving/github/sinkhole_analysis/QGIS-project-creation.ipynb Cell 16\u001b[0m in \u001b[0;36m1\n\u001b[0;32m----> <a href='vscode-notebook-cell:/home/mcoving/github/sinkhole_analysis/QGIS-project-creation.ipynb#X23sZmlsZQ%3D%3D?line=0'>1</a>\u001b[0m dp\u001b[39m.\u001b[39;49minitStatistics(\u001b[39m1\u001b[39;49m)\n",
      "\u001b[0;31mTypeError\u001b[0m: QgsRasterDataProvider.initStatistics(): argument 1 has unexpected type 'int'"
     ]
    }
   ],
   "source": [
    "dp.initStatistics(1)"
   ]
  },
  {
   "cell_type": "code",
   "execution_count": 34,
   "id": "0597d44f",
   "metadata": {},
   "outputs": [],
   "source": [
    "from qgis.core import QgsRasterBandStats\n",
    "\n",
    "stats = dp.bandStatistics(1, QgsRasterBandStats.All, rasterLayer.extent(), 0)"
   ]
  },
  {
   "cell_type": "code",
   "execution_count": 37,
   "id": "c43290d4",
   "metadata": {},
   "outputs": [],
   "source": [
    "minval = stats.minimumValue\n",
    "maxval = stats.maximumValue"
   ]
  },
  {
   "cell_type": "code",
   "execution_count": 38,
   "id": "1a5178e5",
   "metadata": {},
   "outputs": [],
   "source": [
    "shader = QgsColorRampShader(minval, maxval, QgsRandomColorRamp())"
   ]
  },
  {
   "cell_type": "code",
   "execution_count": 56,
   "id": "9e6b1c97",
   "metadata": {},
   "outputs": [
    {
     "ename": "TypeError",
     "evalue": "QgsPalettedRasterRenderer(): argument 3 has unexpected type 'QgsRandomColorRamp'",
     "output_type": "error",
     "traceback": [
      "\u001b[0;31m---------------------------------------------------------------------------\u001b[0m",
      "\u001b[0;31mTypeError\u001b[0m                                 Traceback (most recent call last)",
      "\u001b[1;32m/home/mcoving/github/sinkhole_analysis/QGIS-project-creation.ipynb Cell 20\u001b[0m in \u001b[0;36m1\n\u001b[0;32m----> <a href='vscode-notebook-cell:/home/mcoving/github/sinkhole_analysis/QGIS-project-creation.ipynb#X30sZmlsZQ%3D%3D?line=0'>1</a>\u001b[0m paletted_renderer \u001b[39m=\u001b[39m QgsPalettedRasterRenderer(rasterLayer\u001b[39m.\u001b[39;49mdataProvider(), \u001b[39m1\u001b[39;49m, rand_ramp)\n",
      "\u001b[0;31mTypeError\u001b[0m: QgsPalettedRasterRenderer(): argument 3 has unexpected type 'QgsRandomColorRamp'"
     ]
    }
   ],
   "source": [
    "paletted_renderer = QgsPalettedRasterRenderer(rasterLayer.dataProvider(), 1, rand_ramp)"
   ]
  },
  {
   "cell_type": "code",
   "execution_count": 41,
   "id": "2b1800f6",
   "metadata": {},
   "outputs": [],
   "source": [
    "rand_ramp = QgsRandomColorRamp()"
   ]
  },
  {
   "cell_type": "code",
   "execution_count": 49,
   "id": "29d5cc8f",
   "metadata": {},
   "outputs": [],
   "source": [
    "rand_ramp.setTotalColorCount(round(maxval))"
   ]
  },
  {
   "cell_type": "code",
   "execution_count": 53,
   "id": "2406e5d6",
   "metadata": {},
   "outputs": [
    {
     "data": {
      "text/plain": [
       "<PyQt5.QtGui.QColor at 0x7f2f682a99a0>"
      ]
     },
     "execution_count": 53,
     "metadata": {},
     "output_type": "execute_result"
    }
   ],
   "source": [
    "rand_ramp.color(5)"
   ]
  },
  {
   "cell_type": "code",
   "execution_count": 55,
   "id": "e5fdd86d",
   "metadata": {},
   "outputs": [
    {
     "data": {
      "text/plain": [
       "<function QgsRandomColorRamp.color>"
      ]
     },
     "execution_count": 55,
     "metadata": {},
     "output_type": "execute_result"
    }
   ],
   "source": [
    "rand_ramp.color"
   ]
  },
  {
   "cell_type": "code",
   "execution_count": 63,
   "id": "059a07e2",
   "metadata": {},
   "outputs": [],
   "source": [
    "classes = QgsPalettedRasterRenderer.classDataFromRaster(rasterLayer.dataProvider(), 1, QgsRandomColorRamp())\n",
    "paletted_renderer = QgsPalettedRasterRenderer(rasterLayer.dataProvider(), 1, classes)\n",
    "rasterLayer.setRenderer(paletted_renderer)\n",
    "rasterLayer.setOpacity(0.5)"
   ]
  },
  {
   "cell_type": "code",
   "execution_count": null,
   "id": "7b20a556",
   "metadata": {},
   "outputs": [],
   "source": []
  }
 ],
 "metadata": {
  "kernelspec": {
   "display_name": "geo_env",
   "language": "python",
   "name": "python3"
  },
  "language_info": {
   "codemirror_mode": {
    "name": "ipython",
    "version": 3
   },
   "file_extension": ".py",
   "mimetype": "text/x-python",
   "name": "python",
   "nbconvert_exporter": "python",
   "pygments_lexer": "ipython3",
   "version": "3.11.0"
  }
 },
 "nbformat": 4,
 "nbformat_minor": 5
}
